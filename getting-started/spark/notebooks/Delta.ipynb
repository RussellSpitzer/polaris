{
 "cells": [
  {
   "cell_type": "markdown",
   "id": "ae8e881c-2837-432f-9288-ddcb0a43e634",
   "metadata": {},
   "source": [
    "# Create Delta table and insert 6 rows"
   ]
  },
  {
   "cell_type": "code",
   "execution_count": 1,
   "id": "93be3a69-0b9f-4e11-92e1-0abe4e2ca5fd",
   "metadata": {},
   "outputs": [],
   "source": [
    "from pyspark.context import SparkContext\n",
    "from pyspark import SparkFiles\n",
    "from pyspark.sql.session import SparkSession\n",
    "from pyspark.sql.types import *\n",
    "\n",
    "deltaSpark = (\n",
    "    SparkSession.builder.master(\"local[1]\")\n",
    "    .config(\"spark.jars.packages\", \"io.delta:delta-spark_2.12:3.2.0\")\n",
    "    .config(\"spark.sql.extensions\", \"io.delta.sql.DeltaSparkSessionExtension\")\n",
    "    .config(\"spark.sql.catalog.spark_catalog\", \"org.apache.spark.sql.delta.catalog.DeltaCatalog\")\n",
    "    .getOrCreate()\n",
    ")\n",
    "\n",
    "local_base_path = \"file:/tmp/polaris/ForeignTableDemo/\"\n",
    "\n",
    "records = [\n",
    "   (1, 'John', 25, 'NYC', '2023-09-28 00:00:00'),\n",
    "   (2, 'Emily', 30, 'SFO', '2023-09-28 00:00:00'),\n",
    "   (3, 'Michael', 35, 'ORD', '2023-09-28 00:00:00'),\n",
    "   (4, 'Andrew', 40, 'NYC', '2023-10-28 00:00:00'),\n",
    "   (5, 'Bob', 28, 'SEA', '2023-09-23 00:00:00'),\n",
    "   (6, 'Charlie', 31, 'DFW', '2023-08-29 00:00:00')\n",
    "]\n",
    "\n",
    "\n",
    "schema = StructType([\n",
    "   StructField(\"id\", IntegerType(), True),\n",
    "   StructField(\"name\", StringType(), True),\n",
    "   StructField(\"age\", IntegerType(), True),\n",
    "   StructField(\"city\", StringType(), True),\n",
    "   StructField(\"create_ts\", StringType(), True)\n",
    "])\n",
    "\n",
    "df = deltaSpark.createDataFrame(records, schema)\n",
    "\n",
    "(\n",
    "   df.write\n",
    "   .format(\"delta\")\n",
    "   .partitionBy(\"city\")\n",
    "   .mode(\"overwrite\") \n",
    "   .save(f\"{local_base_path}\")\n",
    ")\n"
   ]
  },
  {
   "cell_type": "markdown",
   "id": "96ebd48f-43cd-45b8-896d-5fa144ccf3f1",
   "metadata": {},
   "source": [
    "# Append 4 rows"
   ]
  },
  {
   "cell_type": "code",
   "execution_count": 2,
   "id": "a2a480eb-e24f-4a93-8820-38566a7f534c",
   "metadata": {},
   "outputs": [],
   "source": [
    "records = [\n",
    "   (7, 'Alice', 25, 'NYC', '2023-09-28 00:00:00'),\n",
    "   (8, 'Tim', 30, 'SFO', '2023-09-28 00:00:00'),\n",
    "   (9, 'Andy', 35, 'ORD', '2023-09-28 00:00:00'),\n",
    "   (10, 'Bob', 40, 'SFO', '2023-10-28 00:00:00'),\n",
    "]\n",
    "df = deltaSpark.createDataFrame(records, schema)\n",
    "\n",
    "(\n",
    "   df.write\n",
    "   .format(\"delta\")\n",
    "   .partitionBy(\"city\")\n",
    "   .mode(\"append\") \n",
    "   .save(f\"{local_base_path}\")\n",
    ")"
   ]
  },
  {
   "cell_type": "code",
   "execution_count": null,
   "id": "dbcf7059-9b3a-4939-a021-eef663d0d963",
   "metadata": {},
   "outputs": [],
   "source": []
  }
 ],
 "metadata": {
  "kernelspec": {
   "display_name": "Python 3 (ipykernel)",
   "language": "python",
   "name": "python3"
  },
  "language_info": {
   "codemirror_mode": {
    "name": "ipython",
    "version": 3
   },
   "file_extension": ".py",
   "mimetype": "text/x-python",
   "name": "python",
   "nbconvert_exporter": "python",
   "pygments_lexer": "ipython3",
   "version": "3.11.6"
  },
  "toc-autonumbering": false,
  "toc-showmarkdowntxt": false,
  "toc-showtags": false
 },
 "nbformat": 4,
 "nbformat_minor": 5
}
