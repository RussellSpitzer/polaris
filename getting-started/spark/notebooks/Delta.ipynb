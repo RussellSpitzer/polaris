{
 "cells": [
  {
   "cell_type": "code",
   "execution_count": 8,
   "id": "0600f9ff-057a-4971-a944-0ffc2276248a",
   "metadata": {},
   "outputs": [
    {
     "name": "stderr",
     "output_type": "stream",
     "text": [
      "----------------------------------------\n",
      "Exception occurred during processing of request from ('127.0.0.1', 34782)\n",
      "Traceback (most recent call last):\n",
      "  File \"/opt/conda/lib/python3.11/socketserver.py\", line 317, in _handle_request_noblock\n",
      "    self.process_request(request, client_address)\n",
      "  File \"/opt/conda/lib/python3.11/socketserver.py\", line 348, in process_request\n",
      "    self.finish_request(request, client_address)\n",
      "  File \"/opt/conda/lib/python3.11/socketserver.py\", line 361, in finish_request\n",
      "    self.RequestHandlerClass(request, client_address, self)\n",
      "  File \"/opt/conda/lib/python3.11/socketserver.py\", line 755, in __init__\n",
      "    self.handle()\n",
      "  File \"/usr/local/spark/python/pyspark/accumulators.py\", line 295, in handle\n",
      "    poll(accum_updates)\n",
      "  File \"/usr/local/spark/python/pyspark/accumulators.py\", line 267, in poll\n",
      "    if self.rfile in r and func():\n",
      "                           ^^^^^^\n",
      "  File \"/usr/local/spark/python/pyspark/accumulators.py\", line 271, in accum_updates\n",
      "    num_updates = read_int(self.rfile)\n",
      "                  ^^^^^^^^^^^^^^^^^^^^\n",
      "  File \"/usr/local/spark/python/pyspark/serializers.py\", line 596, in read_int\n",
      "    raise EOFError\n",
      "EOFError\n",
      "----------------------------------------\n"
     ]
    }
   ],
   "source": [
    "from pyspark.context import SparkContext\n",
    "from pyspark import SparkFiles\n",
    "from pyspark.sql.session import SparkSession\n",
    "from pyspark.sql.types import *\n",
    "\n",
    "deltaSpark = (\n",
    "    SparkSession.builder.master(\"local[1]\")\n",
    "    .config(\"spark.jars.packages\", \"io.delta:delta-spark_2.12:3.2.0\")\n",
    "    .config(\"spark.sql.extensions\", \"io.delta.sql.DeltaSparkSessionExtension\")\n",
    "    .config(\"spark.sql.catalog.spark_catalog\", \"org.apache.spark.sql.delta.catalog.DeltaCatalog\")\n",
    "    .getOrCreate()\n",
    ")\n",
    "\n",
    "local_base_path = \"file:/tmp/polaris/ForeignTableDemo/\"\n",
    "\n",
    "records = [\n",
    "   (1, 'John', 25, 'NYC', '2023-09-28 00:00:00'),\n",
    "   (2, 'Emily', 30, 'SFO', '2023-09-28 00:00:00'),\n",
    "   (3, 'Michael', 35, 'ORD', '2023-09-28 00:00:00'),\n",
    "   (4, 'Andrew', 40, 'NYC', '2023-10-28 00:00:00'),\n",
    "   (5, 'Bob', 28, 'SEA', '2023-09-23 00:00:00'),\n",
    "   (6, 'Charlie', 31, 'DFW', '2023-08-29 00:00:00')\n",
    "]\n",
    "\n",
    "\n",
    "schema = StructType([\n",
    "   StructField(\"id\", IntegerType(), True),\n",
    "   StructField(\"name\", StringType(), True),\n",
    "   StructField(\"age\", IntegerType(), True),\n",
    "   StructField(\"city\", StringType(), True),\n",
    "   StructField(\"create_ts\", StringType(), True)\n",
    "])\n",
    "\n",
    "df = deltaSpark.createDataFrame(records, schema)\n",
    "\n",
    "(\n",
    "   df.write\n",
    "   .format(\"delta\")\n",
    "   .partitionBy(\"city\")\n",
    "   .mode(\"overwrite\") \n",
    "   .save(f\"{local_base_path}\")\n",
    ")\n"
   ]
  },
  {
   "cell_type": "code",
   "execution_count": null,
   "id": "dbcf7059-9b3a-4939-a021-eef663d0d963",
   "metadata": {},
   "outputs": [],
   "source": []
  }
 ],
 "metadata": {
  "kernelspec": {
   "display_name": "Python 3 (ipykernel)",
   "language": "python",
   "name": "python3"
  },
  "language_info": {
   "codemirror_mode": {
    "name": "ipython",
    "version": 3
   },
   "file_extension": ".py",
   "mimetype": "text/x-python",
   "name": "python",
   "nbconvert_exporter": "python",
   "pygments_lexer": "ipython3",
   "version": "3.11.6"
  },
  "toc-autonumbering": false,
  "toc-showmarkdowntxt": false,
  "toc-showtags": false
 },
 "nbformat": 4,
 "nbformat_minor": 5
}
